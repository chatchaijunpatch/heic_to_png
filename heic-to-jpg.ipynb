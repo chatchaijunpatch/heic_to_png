{
 "cells": [
  {
   "cell_type": "code",
   "execution_count": 16,
   "metadata": {},
   "outputs": [],
   "source": [
    "import os\n",
    "import pillow_heif\n",
    "from PIL import Image"
   ]
  },
  {
   "cell_type": "code",
   "execution_count": 17,
   "metadata": {},
   "outputs": [],
   "source": [
    "this_dir = os.listdir()"
   ]
  },
  {
   "cell_type": "code",
   "execution_count": 18,
   "metadata": {},
   "outputs": [],
   "source": [
    "for ddir in this_dir:\n",
    "    if ddir != 'heic-to-jpg.ipynb':    \n",
    "        for file in os.listdir(ddir):\n",
    "            for filename in os.listdir(ddir+\"/\"+file):\n",
    "                if filename.lower().endswith(\".heic\"):\n",
    "                    im = ddir+'/'+file+'/'+filename\n",
    "                    heif_file = pillow_heif.open_heif(im)\n",
    "                    image = Image.frombytes(\n",
    "                        heif_file.mode,\n",
    "                        heif_file.size,\n",
    "                        heif_file.data,\n",
    "                        \"raw\",\n",
    "                    )\n",
    "                    image.save(im.replace(\".HEIC\",\".png\"), format=\"png\")\n",
    "      "
   ]
  },
  {
   "cell_type": "code",
   "execution_count": 19,
   "metadata": {},
   "outputs": [],
   "source": [
    "for ddir in this_dir:\n",
    "    if ddir != 'heic-to-jpg.ipynb':    \n",
    "        for file in os.listdir(ddir):\n",
    "            for filename in os.listdir(ddir+\"/\"+file):\n",
    "                if filename.lower().endswith(\".heic\"):\n",
    "                    im = ddir+'/'+file+'/'+filename\n",
    "                    os.remove(im)"
   ]
  },
  {
   "cell_type": "code",
   "execution_count": null,
   "metadata": {},
   "outputs": [],
   "source": []
  }
 ],
 "metadata": {
  "interpreter": {
   "hash": "4f7cf8a7d42fb54cf0c1bd71cf615db380e085e5bb100c7662268a5e829bce26"
  },
  "kernelspec": {
   "display_name": "Python 3.8.5 ('base')",
   "language": "python",
   "name": "python3"
  },
  "language_info": {
   "codemirror_mode": {
    "name": "ipython",
    "version": 3
   },
   "file_extension": ".py",
   "mimetype": "text/x-python",
   "name": "python",
   "nbconvert_exporter": "python",
   "pygments_lexer": "ipython3",
   "version": "3.8.5"
  },
  "orig_nbformat": 4
 },
 "nbformat": 4,
 "nbformat_minor": 2
}
